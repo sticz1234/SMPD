{
 "cells": [
  {
   "cell_type": "code",
   "execution_count": 1,
   "metadata": {},
   "outputs": [],
   "source": [
    "import numpy as np\n",
    "import pandas as pd"
   ]
  },
  {
   "cell_type": "code",
   "execution_count": null,
   "metadata": {},
   "outputs": [],
   "source": [
    "def float(filename):\n",
    "    dataset = import_data(filename)\n",
    "    FloatedData = dataset\n",
    "    for i in range(1,len(FloatedData[0])):\n",
    "        str_column_to_float(FloatedData, i)\n",
    "    return FloatedData"
   ]
  },
  {
   "cell_type": "code",
   "execution_count": 3,
   "metadata": {},
   "outputs": [],
   "source": [
    "def do_array(lista):\n",
    "    b=np.zeros((np.size(lista,0),np.size(lista,1))) #macierz zerowa [wiersze,kolumny]              \n",
    "    for x in range(np.size(lista,0)):\n",
    "        for y in range(np.size(lista,1)):\n",
    "            b[x][y]=lista[x][y]\n",
    "    return b"
   ]
  },
  {
   "cell_type": "code",
   "execution_count": 4,
   "metadata": {},
   "outputs": [],
   "source": [
    "def wczytaj_wektory(filename):\n",
    "    f = open(filename,'r').read().split('\\n')\n",
    "    a=[]\n",
    "    for i in range(len(f)):\n",
    "        temp = f[i].split(',')\n",
    "        a.append(temp[1:]) #Usuwa pierwszą część x_1...\n",
    "    wektor = do_array(a) \n",
    "    return wektor"
   ]
  },
  {
   "cell_type": "code",
   "execution_count": null,
   "metadata": {},
   "outputs": [],
   "source": []
  },
  {
   "cell_type": "code",
   "execution_count": 5,
   "metadata": {},
   "outputs": [],
   "source": [
    "def distance(row1, row2):\n",
    "    distance = 0.0\n",
    "    for i in range(len(row1)):     #bo od 0\n",
    "        distance += (row1[i] - row2[i])**2 \n",
    "    return np.sqrt(distance)"
   ]
  },
  {
   "cell_type": "code",
   "execution_count": 6,
   "metadata": {},
   "outputs": [],
   "source": [
    "def odlegloscpunktumin(liczbasasiadow,iloscwektorow):\n",
    "    WynikA=[]\n",
    "    WynikB=[]\n",
    "    SortA=[]\n",
    "    SortB=[]\n",
    "    tablica_wektorow=wczytaj_wektory('wektory.txt')\n",
    "    A,B=wczytaj_klase('data.txt')\n",
    "    A=do_array(A) #paramatry (A/b, liczba sasiadow,liczba cech)\n",
    "    B=do_array(B) #paramatry\n",
    "    \n",
    "    #print('Macierz A:',A)\n",
    "    #print('Macierz B:',B)\n",
    "    #print('Tablica wektorow:',tablica_wektorow)\n",
    "\n",
    "    for i in range(iloscwektorow):\n",
    "        wektor=tablica_wektorow[i]\n",
    "        for j in range(np.size(A,0)): \n",
    "            WynikA.append(distance(A[j],wektor))\n",
    "        for j in range(np.size(B,0)):    \n",
    "            WynikB.append(distance(B[j],wektor))\n",
    "    \n",
    "    SortA.append(sorted(WynikA))\n",
    "    SortB.append(sorted(WynikB))\n",
    "    \n",
    "    if min(WynikA[0:liczbasasiadow])< min(WynikB[0:liczbasasiadow]):    # ZŁĄCZYC TABLICE POZNIEJ WYJĄC ODPOWIEDNIĄ ILOSC I SPRAWDZIC W WIEKSZOSCI W JAKIEJ SA KLASIE , NIE WYNUK TYLKO SORT\n",
    "        return print('Należy do klasy A','Posortowany wynikA:',SortA,'Posortowany WynikB:',SortB) \n",
    "    elif min(WynikB[0:liczbasasiadow])< min(WynikA[0:liczbasasiadow]):\n",
    "        return print('Należy do klasy B','Posortowany wynikA:',SortA,'Posortowany WynikB:',SortB)\n",
    "    else:\n",
    "        return print('Dystans równy','WynikA:',WynikA,'WynikB:',WynikB)"
   ]
  },
  {
   "cell_type": "code",
   "execution_count": 7,
   "metadata": {},
   "outputs": [
    {
     "ename": "NameError",
     "evalue": "name 'np' is not defined",
     "output_type": "error",
     "traceback": [
      "\u001b[1;31m---------------------------------------------------------------------------\u001b[0m",
      "\u001b[1;31mNameError\u001b[0m                                 Traceback (most recent call last)",
      "\u001b[1;32m<ipython-input-7-0af8bbf78a69>\u001b[0m in \u001b[0;36m<module>\u001b[1;34m\u001b[0m\n\u001b[1;32m----> 1\u001b[1;33m \u001b[0modlegloscpunktumin\u001b[0m\u001b[1;33m(\u001b[0m\u001b[1;36m1\u001b[0m\u001b[1;33m,\u001b[0m\u001b[1;36m1\u001b[0m\u001b[1;33m)\u001b[0m\u001b[1;33m\u001b[0m\u001b[1;33m\u001b[0m\u001b[0m\n\u001b[0m",
      "\u001b[1;32m<ipython-input-6-4746787ffec5>\u001b[0m in \u001b[0;36modlegloscpunktumin\u001b[1;34m(liczbasasiadow, iloscwektorow)\u001b[0m\n\u001b[0;32m      4\u001b[0m     \u001b[0mSortA\u001b[0m\u001b[1;33m=\u001b[0m\u001b[1;33m[\u001b[0m\u001b[1;33m]\u001b[0m\u001b[1;33m\u001b[0m\u001b[1;33m\u001b[0m\u001b[0m\n\u001b[0;32m      5\u001b[0m     \u001b[0mSortB\u001b[0m\u001b[1;33m=\u001b[0m\u001b[1;33m[\u001b[0m\u001b[1;33m]\u001b[0m\u001b[1;33m\u001b[0m\u001b[1;33m\u001b[0m\u001b[0m\n\u001b[1;32m----> 6\u001b[1;33m     \u001b[0mtablica_wektorow\u001b[0m\u001b[1;33m=\u001b[0m\u001b[0mwczytaj_wektory\u001b[0m\u001b[1;33m(\u001b[0m\u001b[1;34m'wektory.txt'\u001b[0m\u001b[1;33m)\u001b[0m\u001b[1;33m\u001b[0m\u001b[1;33m\u001b[0m\u001b[0m\n\u001b[0m\u001b[0;32m      7\u001b[0m     \u001b[0mA\u001b[0m\u001b[1;33m,\u001b[0m\u001b[0mB\u001b[0m\u001b[1;33m=\u001b[0m\u001b[0mwczytaj_klase\u001b[0m\u001b[1;33m(\u001b[0m\u001b[1;34m'data.txt'\u001b[0m\u001b[1;33m)\u001b[0m\u001b[1;33m\u001b[0m\u001b[1;33m\u001b[0m\u001b[0m\n\u001b[0;32m      8\u001b[0m     \u001b[0mA\u001b[0m\u001b[1;33m=\u001b[0m\u001b[0mdo_array\u001b[0m\u001b[1;33m(\u001b[0m\u001b[0mA\u001b[0m\u001b[1;33m)\u001b[0m \u001b[1;31m#paramatry (A/b, liczba sasiadow,liczba cech)\u001b[0m\u001b[1;33m\u001b[0m\u001b[1;33m\u001b[0m\u001b[0m\n",
      "\u001b[1;32m<ipython-input-4-8d92e68e48fd>\u001b[0m in \u001b[0;36mwczytaj_wektory\u001b[1;34m(filename)\u001b[0m\n\u001b[0;32m      5\u001b[0m         \u001b[0mtemp\u001b[0m \u001b[1;33m=\u001b[0m \u001b[0mf\u001b[0m\u001b[1;33m[\u001b[0m\u001b[0mi\u001b[0m\u001b[1;33m]\u001b[0m\u001b[1;33m.\u001b[0m\u001b[0msplit\u001b[0m\u001b[1;33m(\u001b[0m\u001b[1;34m','\u001b[0m\u001b[1;33m)\u001b[0m\u001b[1;33m\u001b[0m\u001b[1;33m\u001b[0m\u001b[0m\n\u001b[0;32m      6\u001b[0m         \u001b[0ma\u001b[0m\u001b[1;33m.\u001b[0m\u001b[0mappend\u001b[0m\u001b[1;33m(\u001b[0m\u001b[0mtemp\u001b[0m\u001b[1;33m[\u001b[0m\u001b[1;36m1\u001b[0m\u001b[1;33m:\u001b[0m\u001b[1;33m]\u001b[0m\u001b[1;33m)\u001b[0m \u001b[1;31m#Usuwa pierwszą część x_1...\u001b[0m\u001b[1;33m\u001b[0m\u001b[1;33m\u001b[0m\u001b[0m\n\u001b[1;32m----> 7\u001b[1;33m     \u001b[0mwektor\u001b[0m \u001b[1;33m=\u001b[0m \u001b[0mdo_array\u001b[0m\u001b[1;33m(\u001b[0m\u001b[0ma\u001b[0m\u001b[1;33m)\u001b[0m\u001b[1;33m\u001b[0m\u001b[1;33m\u001b[0m\u001b[0m\n\u001b[0m\u001b[0;32m      8\u001b[0m     \u001b[1;32mreturn\u001b[0m \u001b[0mwektor\u001b[0m\u001b[1;33m\u001b[0m\u001b[1;33m\u001b[0m\u001b[0m\n",
      "\u001b[1;32m<ipython-input-3-4be672f9e4c3>\u001b[0m in \u001b[0;36mdo_array\u001b[1;34m(lista)\u001b[0m\n\u001b[0;32m      1\u001b[0m \u001b[1;32mdef\u001b[0m \u001b[0mdo_array\u001b[0m\u001b[1;33m(\u001b[0m\u001b[0mlista\u001b[0m\u001b[1;33m)\u001b[0m\u001b[1;33m:\u001b[0m\u001b[1;33m\u001b[0m\u001b[1;33m\u001b[0m\u001b[0m\n\u001b[1;32m----> 2\u001b[1;33m     \u001b[0mb\u001b[0m\u001b[1;33m=\u001b[0m\u001b[0mnp\u001b[0m\u001b[1;33m.\u001b[0m\u001b[0mzeros\u001b[0m\u001b[1;33m(\u001b[0m\u001b[1;33m(\u001b[0m\u001b[0mnp\u001b[0m\u001b[1;33m.\u001b[0m\u001b[0msize\u001b[0m\u001b[1;33m(\u001b[0m\u001b[0mlista\u001b[0m\u001b[1;33m,\u001b[0m\u001b[1;36m0\u001b[0m\u001b[1;33m)\u001b[0m\u001b[1;33m,\u001b[0m\u001b[0mnp\u001b[0m\u001b[1;33m.\u001b[0m\u001b[0msize\u001b[0m\u001b[1;33m(\u001b[0m\u001b[0mlista\u001b[0m\u001b[1;33m,\u001b[0m\u001b[1;36m1\u001b[0m\u001b[1;33m)\u001b[0m\u001b[1;33m)\u001b[0m\u001b[1;33m)\u001b[0m \u001b[1;31m#macierz zerowa [wiersze,kolumny]\u001b[0m\u001b[1;33m\u001b[0m\u001b[1;33m\u001b[0m\u001b[0m\n\u001b[0m\u001b[0;32m      3\u001b[0m     \u001b[1;32mfor\u001b[0m \u001b[0mx\u001b[0m \u001b[1;32min\u001b[0m \u001b[0mrange\u001b[0m\u001b[1;33m(\u001b[0m\u001b[0mnp\u001b[0m\u001b[1;33m.\u001b[0m\u001b[0msize\u001b[0m\u001b[1;33m(\u001b[0m\u001b[0mlista\u001b[0m\u001b[1;33m,\u001b[0m\u001b[1;36m0\u001b[0m\u001b[1;33m)\u001b[0m\u001b[1;33m)\u001b[0m\u001b[1;33m:\u001b[0m\u001b[1;33m\u001b[0m\u001b[1;33m\u001b[0m\u001b[0m\n\u001b[0;32m      4\u001b[0m         \u001b[1;32mfor\u001b[0m \u001b[0my\u001b[0m \u001b[1;32min\u001b[0m \u001b[0mrange\u001b[0m\u001b[1;33m(\u001b[0m\u001b[0mnp\u001b[0m\u001b[1;33m.\u001b[0m\u001b[0msize\u001b[0m\u001b[1;33m(\u001b[0m\u001b[0mlista\u001b[0m\u001b[1;33m,\u001b[0m\u001b[1;36m1\u001b[0m\u001b[1;33m)\u001b[0m\u001b[1;33m)\u001b[0m\u001b[1;33m:\u001b[0m\u001b[1;33m\u001b[0m\u001b[1;33m\u001b[0m\u001b[0m\n\u001b[0;32m      5\u001b[0m             \u001b[0mb\u001b[0m\u001b[1;33m[\u001b[0m\u001b[0mx\u001b[0m\u001b[1;33m]\u001b[0m\u001b[1;33m[\u001b[0m\u001b[0my\u001b[0m\u001b[1;33m]\u001b[0m\u001b[1;33m=\u001b[0m\u001b[0mlista\u001b[0m\u001b[1;33m[\u001b[0m\u001b[0mx\u001b[0m\u001b[1;33m]\u001b[0m\u001b[1;33m[\u001b[0m\u001b[0my\u001b[0m\u001b[1;33m]\u001b[0m\u001b[1;33m\u001b[0m\u001b[1;33m\u001b[0m\u001b[0m\n",
      "\u001b[1;31mNameError\u001b[0m: name 'np' is not defined"
     ]
    }
   ],
   "source": [
    "odlegloscpunktumin(1,1)"
   ]
  },
  {
   "cell_type": "code",
   "execution_count": 8,
   "metadata": {},
   "outputs": [],
   "source": [
    "def srodekklasy():\n",
    "    srodekA=[]\n",
    "    srodekB=[]\n",
    "    A,B=wczytaj_klase('data.txt')\n",
    "    A=do_array(A) #paramatry (A/b, #liczba sasiadow,liczba cech)\n",
    "    B=do_array(B) #paramatry\n",
    "    \n",
    "    print('Macierz A:',A)\n",
    "    print('Macierz B:',B)\n",
    "    srodekA=np.average(A,axis=1).reshape(10,1)\n",
    "    srodekB=np.average(B,axis=1).reshape(10,1)   # SRODEK KLASY MA LICZYC PO KOLUMNACH KOLUMN,  W ZALEZNOSCI OD CECH\n",
    "    \n",
    "    return srodekA,srodekB"
   ]
  },
  {
   "cell_type": "code",
   "execution_count": 9,
   "metadata": {},
   "outputs": [
    {
     "name": "stdout",
     "output_type": "stream",
     "text": [
      "Macierz A: [[ 2.  3.  5.  6.]\n",
      " [ 4.  5.  2.  4.]\n",
      " [-2. -1. -4. -2.]\n",
      " [ 2.  1.  3.  5.]\n",
      " [ 5.  7.  3.  4.]\n",
      " [ 1.  2.  5.  3.]\n",
      " [ 9.  1.  3.  6.]\n",
      " [ 5.  3.  2.  6.]\n",
      " [ 4.  7.  3.  2.]\n",
      " [ 1.  6.  3.  7.]]\n",
      "Macierz B: [[ -3.  -5. -10.  -2.]\n",
      " [ -5.  -4.  -3.  -3.]\n",
      " [ -1.  -2.  -3.  -1.]\n",
      " [ -1.  -2.  -6.  -3.]\n",
      " [ -5.  -9.  -8.  -7.]\n",
      " [ -3.  -3.  -2.  -2.]\n",
      " [ -1. -23. -12. -11.]\n",
      " [-32. -34. -53. -22.]\n",
      " [ -2.  -1.  -4.  -3.]\n",
      " [-11. -54. -14. -25.]]\n"
     ]
    },
    {
     "data": {
      "text/plain": [
       "(array([[ 4.  ],\n",
       "        [ 3.75],\n",
       "        [-2.25],\n",
       "        [ 2.75],\n",
       "        [ 4.75],\n",
       "        [ 2.75],\n",
       "        [ 4.75],\n",
       "        [ 4.  ],\n",
       "        [ 4.  ],\n",
       "        [ 4.25]]), array([[ -5.  ],\n",
       "        [ -3.75],\n",
       "        [ -1.75],\n",
       "        [ -3.  ],\n",
       "        [ -7.25],\n",
       "        [ -2.5 ],\n",
       "        [-11.75],\n",
       "        [-35.25],\n",
       "        [ -2.5 ],\n",
       "        [-26.  ]]))"
      ]
     },
     "execution_count": 9,
     "metadata": {},
     "output_type": "execute_result"
    }
   ],
   "source": [
    "srodekklasy()"
   ]
  },
  {
   "cell_type": "code",
   "execution_count": 10,
   "metadata": {},
   "outputs": [],
   "source": [
    "def odlegloscsrodka(iloscwektorow,liczbasasiadow):\n",
    "    WynikA=[]\n",
    "    WynikB=[]\n",
    "    SortA=[]\n",
    "    SortB=[]\n",
    "    tablica_wektorow=wczytaj_wektory('wektory.txt')\n",
    "    srodekA,srodekB=srodekklasy()\n",
    "    print('Srodek A:',srodekA,'Srodek B:',srodekB)\n",
    "    \n",
    "    for i in range(iloscwektorow):\n",
    "        wektor=tablica_wektorow[i]\n",
    "        for j in range(np.size(srodekA,0)):\n",
    "            WynikA.append(distance(srodekA[j],wektor))\n",
    "            WynikB.append(distance(srodekB[j],wektor))\n",
    "            \n",
    "    SortA.append(sorted(WynikA))\n",
    "    SortB.append(sorted(WynikB))\n",
    "    \n",
    "    if min(WynikA[0:liczbasasiadow])< min(WynikB[0:liczbasasiadow]):\n",
    "        return print('Należy do klasy A','Posortowany wynikA:',SortA,'Posortowany WynikB:',SortB) \n",
    "    elif min(WynikB[0:liczbasasiadow])< min(WynikA[0:liczbasasiadow]):\n",
    "        return print('Należy do klasy B','Posortowany wynikA:',SortA,'Posortowany WynikB:',SortB)\n",
    "    else:\n",
    "        return print('Dystans równy','WynikA:',WynikA,'WynikB:',WynikB)\n",
    "            \n",
    "    return WynikA,WynikB  # ODLEGLOSC OD SREDNIEJ A I SREDNIEJ B , DLA 1 WEKTORA DWIE WARTOSCI, NIEZALEZNIE OD ILOSCI CECH BEDA 2 WARTOSCI"
   ]
  },
  {
   "cell_type": "code",
   "execution_count": 11,
   "metadata": {},
   "outputs": [
    {
     "name": "stdout",
     "output_type": "stream",
     "text": [
      "Macierz A: [[ 2.  3.  5.  6.]\n",
      " [ 4.  5.  2.  4.]\n",
      " [-2. -1. -4. -2.]\n",
      " [ 2.  1.  3.  5.]\n",
      " [ 5.  7.  3.  4.]\n",
      " [ 1.  2.  5.  3.]\n",
      " [ 9.  1.  3.  6.]\n",
      " [ 5.  3.  2.  6.]\n",
      " [ 4.  7.  3.  2.]\n",
      " [ 1.  6.  3.  7.]]\n",
      "Macierz B: [[ -3.  -5. -10.  -2.]\n",
      " [ -5.  -4.  -3.  -3.]\n",
      " [ -1.  -2.  -3.  -1.]\n",
      " [ -1.  -2.  -6.  -3.]\n",
      " [ -5.  -9.  -8.  -7.]\n",
      " [ -3.  -3.  -2.  -2.]\n",
      " [ -1. -23. -12. -11.]\n",
      " [-32. -34. -53. -22.]\n",
      " [ -2.  -1.  -4.  -3.]\n",
      " [-11. -54. -14. -25.]]\n",
      "Srodek A: [[ 4.  ]\n",
      " [ 3.75]\n",
      " [-2.25]\n",
      " [ 2.75]\n",
      " [ 4.75]\n",
      " [ 2.75]\n",
      " [ 4.75]\n",
      " [ 4.  ]\n",
      " [ 4.  ]\n",
      " [ 4.25]] Srodek B: [[ -5.  ]\n",
      " [ -3.75]\n",
      " [ -1.75]\n",
      " [ -3.  ]\n",
      " [ -7.25]\n",
      " [ -2.5 ]\n",
      " [-11.75]\n",
      " [-35.25]\n",
      " [ -2.5 ]\n",
      " [-26.  ]]\n",
      "Należy do klasy A Posortowany wynikA: [[0.75, 0.75, 1.75, 2.0, 2.0, 2.0, 2.25, 2.75, 2.75, 4.25]] Posortowany WynikB: [[3.75, 4.5, 4.5, 5.0, 5.75, 7.0, 9.25, 13.75, 28.0, 37.25]]\n"
     ]
    }
   ],
   "source": [
    "odlegloscsrodka(1,1)\n"
   ]
  },
  {
   "cell_type": "code",
   "execution_count": null,
   "metadata": {},
   "outputs": [],
   "source": [
    "#DO ZROBIENIA TO CO NA KOLOSIE Z SMPD"
   ]
  },
  {
   "cell_type": "code",
   "execution_count": 18,
   "metadata": {},
   "outputs": [],
   "source": [
    "# DO ZROBIENIA KMM, Z PODZIAŁEM NA PODZBIORY, KLASE DZIELIMY NA PODKLASY I DO NICH LICZYMY ODLEGŁOŚĆ, \n",
    "#LOSOWANIE K WARTOSCI ILOSC WYLOSOWANYCH PUNKTÓW CZYLI ILOSC A, B ITD, TUTAJ CECHY UZNAJEMY ZE SA WSZYSTKIE"
   ]
  },
  {
   "cell_type": "code",
   "execution_count": null,
   "metadata": {},
   "outputs": [],
   "source": []
  }
 ],
 "metadata": {
  "kernelspec": {
   "display_name": "Python 3",
   "language": "python",
   "name": "python3"
  },
  "language_info": {
   "codemirror_mode": {
    "name": "ipython",
    "version": 3
   },
   "file_extension": ".py",
   "mimetype": "text/x-python",
   "name": "python",
   "nbconvert_exporter": "python",
   "pygments_lexer": "ipython3",
   "version": "3.7.4"
  }
 },
 "nbformat": 4,
 "nbformat_minor": 2
}
